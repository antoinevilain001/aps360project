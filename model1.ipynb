{
 "cells": [
  {
   "cell_type": "markdown",
   "metadata": {},
   "source": [
    "Imports"
   ]
  },
  {
   "cell_type": "code",
   "execution_count": 3,
   "metadata": {},
   "outputs": [],
   "source": [
    "import numpy as np\n",
    "import torch\n",
    "import os\n",
    "from torch.utils.data import DataLoader, TensorDataset"
   ]
  },
  {
   "cell_type": "markdown",
   "metadata": {},
   "source": [
    "Load the data"
   ]
  },
  {
   "cell_type": "code",
   "execution_count": 12,
   "metadata": {},
   "outputs": [],
   "source": [
    "# Load the data from the specified directory\n",
    "X_train = np.load('./ProcessedInputData/X_train.npy')\n",
    "Y_train = np.load('./ProcessedInputData/Y_train.npy')\n",
    "X_val = np.load('./ProcessedInputData/X_val.npy')\n",
    "Y_val = np.load('./ProcessedInputData/Y_val.npy')\n",
    "\n",
    "# Convert to PyTorch tensors\n",
    "X_train_tensor = torch.tensor(X_train, dtype=torch.float32)\n",
    "Y_train_tensor = torch.tensor(Y_train, dtype=torch.long)\n",
    "X_val_tensor = torch.tensor(X_val, dtype=torch.float32)\n",
    "Y_val_tensor = torch.tensor(Y_val, dtype=torch.long)\n",
    "\n",
    "# Create a DataLoader for batching\n",
    "batch_size = 64\n",
    "train_dataset = TensorDataset(X_train_tensor, Y_train_tensor)\n",
    "train_loader = DataLoader(train_dataset, batch_size=batch_size, shuffle=True)\n",
    "val_dataset = TensorDataset(X_val_tensor, Y_val_tensor)\n",
    "val_loader = DataLoader(train_dataset, batch_size=batch_size, shuffle=False)"
   ]
  },
  {
   "cell_type": "code",
   "execution_count": 13,
   "metadata": {},
   "outputs": [
    {
     "name": "stdout",
     "output_type": "stream",
     "text": [
      "\n",
      "First few elements of Y_train_tensor:\n",
      "torch.Size([3153])\n",
      "tensor([1, 1, 1, 1, 0, 0, 0, 1, 0, 0])\n",
      "First few elements of X_train_tensor:\n",
      "torch.Size([3153, 5, 90, 1])\n",
      "Val tensors:\n",
      "torch.Size([394])\n",
      "torch.Size([394, 5, 90, 1])\n"
     ]
    }
   ],
   "source": [
    "# Print the first few elements of the tensors\n",
    "print(\"\\nFirst few elements of Y_train_tensor:\")\n",
    "print(Y_train_tensor.size())\n",
    "print(Y_train_tensor[:10])  # Print first 10 elements\n",
    "\n",
    "print(\"First few elements of X_train_tensor:\")\n",
    "print(X_train_tensor.size())\n",
    "# print(X_train_tensor[:3])  # Print first 3 elements\n",
    "\n",
    "# each input is 5x90x1 matrix\n",
    "# 5 bc there are 5 eeg channels recordings per sample,\n",
    "# 90 bc i did fourier transform and binned it into 90 different bins from 0.5 to 40 Hz (relevant frequencies for EEG)\n",
    "# the 1 was added just to be the dimension of picture style for CNN so its like black and white\n",
    "\n",
    "print(\"Val tensors:\")\n",
    "print(Y_val_tensor.size())\n",
    "print(X_val_tensor.size())"
   ]
  }
 ],
 "metadata": {
  "kernelspec": {
   "display_name": "Python 3",
   "language": "python",
   "name": "python3"
  },
  "language_info": {
   "codemirror_mode": {
    "name": "ipython",
    "version": 3
   },
   "file_extension": ".py",
   "mimetype": "text/x-python",
   "name": "python",
   "nbconvert_exporter": "python",
   "pygments_lexer": "ipython3",
   "version": "3.10.1"
  }
 },
 "nbformat": 4,
 "nbformat_minor": 2
}
